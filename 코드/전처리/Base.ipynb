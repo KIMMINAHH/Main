{
 "cells": [
  {
   "cell_type": "code",
   "execution_count": 1,
   "metadata": {},
   "outputs": [],
   "source": [
    "import pandas as pd"
   ]
  },
  {
   "cell_type": "code",
   "execution_count": 6,
   "metadata": {},
   "outputs": [],
   "source": [
    "data = pd.read_csv('../../데이터/한국환경공단.csv')"
   ]
  },
  {
   "cell_type": "code",
   "execution_count": 7,
   "metadata": {},
   "outputs": [],
   "source": [
    "# 최소 실행시 1번째 행 제거\n",
    "del data['Unnamed: 0']"
   ]
  },
  {
   "cell_type": "markdown",
   "metadata": {},
   "source": [
    "data를 한 번에 뽑는것이 아니라 1000개씩 25번 반복하여 뽑기 때문에 중간중간에 column 이름들이 data로 들어가있다.\n",
    "\n",
    "따라서, 이를 제거해주어야 함."
   ]
  },
  {
   "cell_type": "code",
   "execution_count": 9,
   "metadata": {},
   "outputs": [],
   "source": [
    "data = data[data['충전소명'] != '충전소명']"
   ]
  },
  {
   "cell_type": "markdown",
   "metadata": {},
   "source": [
    "데이터 인덱스가 뒤죽박죽이기 때문에 데이터 개수인 24338개에 따라 1부터 차례대로 붙인다."
   ]
  },
  {
   "cell_type": "code",
   "execution_count": 10,
   "metadata": {},
   "outputs": [],
   "source": [
    "data.index = range(1, 24339)"
   ]
  },
  {
   "cell_type": "code",
   "execution_count": 11,
   "metadata": {},
   "outputs": [
    {
     "data": {
      "text/plain": [
       "Index(['충전소명', '충전기타입', '주소', '위치', '위도', '경도', '이용가능시간', '기관명', '운영기관명',\n",
       "       '운영기관연락처', '배터리종류', '충전용량', '충전방식', '지역코드', '도로명주소', '종류', '종류 디테일',\n",
       "       '주차료무료', '충전소안내', '이용자제한', '이용자제한사유', '삭제 여부', '삭제 사유', '기관 아이디',\n",
       "       '충전소ID', '충전기ID', '충전기상태', '상태갱신일시', '마지막 충전시작일시', '마지막 충전종료일시',\n",
       "       '충전중 시작일시'],\n",
       "      dtype='object')"
      ]
     },
     "execution_count": 11,
     "metadata": {},
     "output_type": "execute_result"
    }
   ],
   "source": [
    "data.columns"
   ]
  },
  {
   "cell_type": "markdown",
   "metadata": {},
   "source": [
    "사실상 마지막 충전시작일시, 마지막 충전종료일시, 충전중 시작일시 데이터는 필요없을것 같지만,, 지우지는 않고 따로 data1이라는 변수를 만들어서 작업한다."
   ]
  },
  {
   "cell_type": "code",
   "execution_count": 12,
   "metadata": {},
   "outputs": [
    {
     "data": {
      "text/plain": [
       "Index(['충전소명', '충전기타입', '주소', '위치', '위도', '경도', '이용가능시간', '기관명', '운영기관명',\n",
       "       '운영기관연락처', '배터리종류', '충전용량', '충전방식', '지역코드', '도로명주소', '종류', '종류 디테일',\n",
       "       '주차료무료', '충전소안내', '이용자제한', '이용자제한사유', '삭제 여부', '삭제 사유', '기관 아이디',\n",
       "       '충전소ID', '충전기ID'],\n",
       "      dtype='object')"
      ]
     },
     "execution_count": 12,
     "metadata": {},
     "output_type": "execute_result"
    }
   ],
   "source": [
    "data1 = data[['충전소명', '충전기타입', '주소', '위치', '위도', '경도', '이용가능시간', '기관명', '운영기관명',\n",
    "       '운영기관연락처', '배터리종류', '충전용량', '충전방식', '지역코드', '도로명주소', '종류', '종류 디테일',\n",
    "       '주차료무료', '충전소안내', '이용자제한', '이용자제한사유', '삭제 여부', '삭제 사유', '기관 아이디',\n",
    "       '충전소ID', '충전기ID']]\n",
    "\n",
    "data1.columns"
   ]
  },
  {
   "cell_type": "markdown",
   "metadata": {},
   "source": [
    "삭제된 충전소가 없기 때문에 삭제 사유, 삭제 여부 column 삭제한다."
   ]
  },
  {
   "cell_type": "code",
   "execution_count": 13,
   "metadata": {},
   "outputs": [],
   "source": [
    "data1 = data[['충전소명', '충전기타입', '주소', '위치', '위도', '경도', '이용가능시간', '기관명', '운영기관명',\n",
    "       '운영기관연락처', '배터리종류', '충전용량', '충전방식', '지역코드', '도로명주소', '종류', '종류 디테일',\n",
    "       '주차료무료', '충전소안내', '이용자제한', '이용자제한사유', '기관 아이디',\n",
    "       '충전소ID', '충전기ID']]"
   ]
  },
  {
   "cell_type": "markdown",
   "metadata": {},
   "source": [
    "data1 데이터프레임의 정보를 확인해보면 중간중간에 결측치가 존재하는 것을 볼 수 있다.\n",
    "1. 주소\n",
    "2. 위치\n",
    "3. 이용가능시간\n",
    "4. 운영기관연락처\n",
    "5. 배터리종류\n",
    "6. 충전용량\n",
    "7. 충전방식\n",
    "8. 도로명주소\n",
    "9. 종류\n",
    "10. 종류 디테일\n",
    "11. 주차장 무료\n",
    "12. 충전소 안내\n",
    "13. 이용자 제한 사유\n",
    "\n",
    "위와 같이 총 13개의 column들이 결측치를 포함하고 있다.\n",
    "\n",
    "배터리 종류같은 경우에는 모조리 결측치이기 때문에 삭제하자."
   ]
  },
  {
   "cell_type": "code",
   "execution_count": 14,
   "metadata": {},
   "outputs": [
    {
     "name": "stdout",
     "output_type": "stream",
     "text": [
      "<class 'pandas.core.frame.DataFrame'>\n",
      "RangeIndex: 24338 entries, 1 to 24338\n",
      "Data columns (total 24 columns):\n",
      " #   Column   Non-Null Count  Dtype \n",
      "---  ------   --------------  ----- \n",
      " 0   충전소명     24338 non-null  object\n",
      " 1   충전기타입    24338 non-null  object\n",
      " 2   주소       24325 non-null  object\n",
      " 3   위치       9667 non-null   object\n",
      " 4   위도       24338 non-null  object\n",
      " 5   경도       24338 non-null  object\n",
      " 6   이용가능시간   23591 non-null  object\n",
      " 7   기관명      24338 non-null  object\n",
      " 8   운영기관명    24338 non-null  object\n",
      " 9   운영기관연락처  23580 non-null  object\n",
      " 10  배터리종류    0 non-null      object\n",
      " 11  충전용량     17082 non-null  object\n",
      " 12  충전방식     17416 non-null  object\n",
      " 13  지역코드     24338 non-null  object\n",
      " 14  도로명주소    22112 non-null  object\n",
      " 15  종류       24229 non-null  object\n",
      " 16  종류 디테일   24226 non-null  object\n",
      " 17  주차료무료    24257 non-null  object\n",
      " 18  충전소안내    2994 non-null   object\n",
      " 19  이용자제한    24338 non-null  object\n",
      " 20  이용자제한사유  17797 non-null  object\n",
      " 21  기관 아이디   24338 non-null  object\n",
      " 22  충전소ID    24338 non-null  object\n",
      " 23  충전기ID    24338 non-null  object\n",
      "dtypes: object(24)\n",
      "memory usage: 4.5+ MB\n"
     ]
    }
   ],
   "source": [
    "data1.info()"
   ]
  },
  {
   "cell_type": "code",
   "execution_count": 15,
   "metadata": {},
   "outputs": [],
   "source": [
    "del data1['배터리종류']"
   ]
  },
  {
   "cell_type": "code",
   "execution_count": 17,
   "metadata": {},
   "outputs": [
    {
     "data": {
      "text/plain": [
       "Index(['충전소명', '충전기타입', '주소', '위치', '위도', '경도', '이용가능시간', '기관명', '운영기관명',\n",
       "       '운영기관연락처', '충전용량', '충전방식', '지역코드', '도로명주소', '종류', '종류 디테일', '주차료무료',\n",
       "       '충전소안내', '이용자제한', '이용자제한사유', '기관 아이디', '충전소ID', '충전기ID'],\n",
       "      dtype='object')"
      ]
     },
     "execution_count": 17,
     "metadata": {},
     "output_type": "execute_result"
    }
   ],
   "source": [
    "data1.columns"
   ]
  },
  {
   "cell_type": "markdown",
   "metadata": {},
   "source": [
    "주소의 경우 13개의 결측치가 있었는데, 충전소명이 있으므로 직접 검색해서 채워넣을 수 있었다.\n",
    "> 13개보다 많았으면 진짜 힘들뻔,,,,,,"
   ]
  },
  {
   "cell_type": "code",
   "execution_count": null,
   "metadata": {},
   "outputs": [],
   "source": [
    "data1.loc[data1['충전소명']=='롯데 VIC마켓 금천점', '주소'] = '서울특별시 금천구 두산로 71'\n",
    "data1.loc[data1['충전소명']=='강서구민올림픽체육센터','주소'] = '서울특별시 강서구 화곡로65길 62'\n",
    "data1.loc[data1['충전소명']=='이마트 은평점','주소'] = '서울특별시 은평구 은평로 111'\n",
    "data1.loc[data1['충전소명']=='가락시장','주소'] = '서울특별시 송파구 양재대로 932'\n",
    "data1.loc[data1['충전소명']=='서울경찰청','주소'] = '서울특별시 종로구 내자동 219-3'"
   ]
  },
  {
   "cell_type": "code",
   "execution_count": 101,
   "metadata": {},
   "outputs": [
    {
     "name": "stdout",
     "output_type": "stream",
     "text": [
      "<class 'pandas.core.frame.DataFrame'>\n",
      "RangeIndex: 24338 entries, 1 to 24338\n",
      "Data columns (total 31 columns):\n",
      " #   Column      Non-Null Count  Dtype \n",
      "---  ------      --------------  ----- \n",
      " 0   충전소명        24338 non-null  object\n",
      " 1   충전기타입       24338 non-null  object\n",
      " 2   주소          24325 non-null  object\n",
      " 3   위치          9667 non-null   object\n",
      " 4   위도          24338 non-null  object\n",
      " 5   경도          24338 non-null  object\n",
      " 6   이용가능시간      23591 non-null  object\n",
      " 7   기관명         24338 non-null  object\n",
      " 8   운영기관명       24338 non-null  object\n",
      " 9   운영기관연락처     23580 non-null  object\n",
      " 10  배터리종류       0 non-null      object\n",
      " 11  충전용량        17082 non-null  object\n",
      " 12  충전방식        17416 non-null  object\n",
      " 13  지역코드        24338 non-null  object\n",
      " 14  도로명주소       22112 non-null  object\n",
      " 15  종류          24229 non-null  object\n",
      " 16  종류 디테일      24226 non-null  object\n",
      " 17  주차료무료       24257 non-null  object\n",
      " 18  충전소안내       2994 non-null   object\n",
      " 19  이용자제한       24338 non-null  object\n",
      " 20  이용자제한사유     17797 non-null  object\n",
      " 21  삭제 여부       24338 non-null  object\n",
      " 22  삭제 사유       0 non-null      object\n",
      " 23  기관 아이디      24338 non-null  object\n",
      " 24  충전소ID       24338 non-null  object\n",
      " 25  충전기ID       24338 non-null  object\n",
      " 26  충전기상태       24338 non-null  object\n",
      " 27  상태갱신일시      23627 non-null  object\n",
      " 28  마지막 충전시작일시  17387 non-null  object\n",
      " 29  마지막 충전종료일시  17388 non-null  object\n",
      " 30  충전중 시작일시    15489 non-null  object\n",
      "dtypes: object(31)\n",
      "memory usage: 5.8+ MB\n"
     ]
    }
   ],
   "source": [
    "data.info()"
   ]
  },
  {
   "cell_type": "markdown",
   "metadata": {},
   "source": [
    "이제 도로명주소 column의 결측치를 채워보겠다."
   ]
  },
  {
   "cell_type": "code",
   "execution_count": 102,
   "metadata": {},
   "outputs": [
    {
     "data": {
      "text/plain": [
       "1        11110\n",
       "2        11110\n",
       "3        11140\n",
       "4        11170\n",
       "5        11200\n",
       "         ...  \n",
       "24334    11620\n",
       "24335    11620\n",
       "24336    11620\n",
       "24337    11545\n",
       "24338    11545\n",
       "Name: 도로명주소, Length: 24338, dtype: object"
      ]
     },
     "execution_count": 102,
     "metadata": {},
     "output_type": "execute_result"
    }
   ],
   "source": [
    "data1['도로명주소']"
   ]
  },
  {
   "cell_type": "markdown",
   "metadata": {},
   "source": [
    "도로명주소 열을 출력해보면 행정기관코드인 것을 볼 수 있다.\n",
    "\n",
    "결측치가 꽤 있는것같으니 주소를 보고 하나하나 대응 시켜주자"
   ]
  },
  {
   "cell_type": "code",
   "execution_count": 99,
   "metadata": {},
   "outputs": [],
   "source": [
    "Admin_code = dict()\n",
    "Admin_code['강동구'] = 11740\n",
    "Admin_code['송파구'] = 11710\n",
    "Admin_code['강남구'] = 11680\n",
    "Admin_code['서초구'] = 11650\n",
    "\n",
    "Admin_code['강서구'] = 11500\n",
    "Admin_code['영등포구'] = 11560\n",
    "Admin_code['양천구'] = 11470\n",
    "Admin_code['구로구'] = 11530\n",
    "Admin_code['금천구'] = 11545\n",
    "Admin_code['관악구'] = 11620\n",
    "\n",
    "Admin_code['도봉구'] = 11320\n",
    "Admin_code['노원구'] = 11350\n",
    "Admin_code['강북구'] = 11305\n",
    "Admin_code['성북구'] = 11290\n",
    "Admin_code['중랑구'] = 11260\n",
    "\n",
    "Admin_code['은평구'] = 11380\n",
    "Admin_code['종로구'] = 11110\n",
    "Admin_code['서대문구'] = 11410\n",
    "Admin_code['마포구'] = 11440\n",
    "Admin_code['중구'] = 11140\n",
    "\n",
    "Admin_code['동작구'] = 11590\n",
    "Admin_code['동대문구'] = 11230\n",
    "Admin_code['광진구'] = 11215\n",
    "Admin_code['성동구'] = 11200\n",
    "Admin_code['용산구'] = 11170"
   ]
  },
  {
   "cell_type": "code",
   "execution_count": 103,
   "metadata": {},
   "outputs": [],
   "source": [
    "import numpy as np\n",
    "\n",
    "def matching_code(address):\n",
    "    if '강동' in address:\n",
    "        return Admin_code['강동구']\n",
    "    elif '송파' in address:\n",
    "        return Admin_code['송파구']\n",
    "    elif '강남' in address:\n",
    "        return Admin_code['강남구']\n",
    "    elif '서초' in address:\n",
    "        return Admin_code['서초구']\n",
    "    elif '강서' in address:\n",
    "        return Admin_code['강서구']\n",
    "    elif '영등포' in address:\n",
    "        return Admin_code['영등포구']\n",
    "    elif '양천' in address:\n",
    "        return Admin_code['양천구']\n",
    "    elif '구로' in address:\n",
    "        return Admin_code['구로구']\n",
    "    elif '금천' in address:\n",
    "        return Admin_code['금천구']\n",
    "    elif '관악' in address:\n",
    "        return Admin_code['관악구']\n",
    "    elif '도봉' in address:\n",
    "        return Admin_code['도봉구']\n",
    "    elif '노원' in address:\n",
    "        return Admin_code['노원구']\n",
    "    elif '강북' in address:\n",
    "        return Admin_code['강북구']\n",
    "    elif '성북' in address:\n",
    "        return Admin_code['성북구']\n",
    "    elif '중랑' in address:\n",
    "        return Admin_code['중랑구']\n",
    "    elif '은평' in address:\n",
    "        return Admin_code['은평구']\n",
    "    elif '종로' in address:\n",
    "        return Admin_code['종로구']\n",
    "    elif '서대문' in address:\n",
    "        return Admin_code['서대문구']\n",
    "    elif '마포' in address:\n",
    "        return Admin_code['마포구']\n",
    "    elif '중구' in address:\n",
    "        return Admin_code['중구']\n",
    "    elif '동작' in address:\n",
    "        return Admin_code['동작구']\n",
    "    elif '동대문' in address:\n",
    "        return Admin_code['동대문구']\n",
    "    elif '광진' in address:\n",
    "        return Admin_code['광진구']\n",
    "    elif '성동' in address:\n",
    "        return Admin_code['성동구']\n",
    "    elif '용산' in address:\n",
    "        return Admin_code['용산구']\n",
    "    else:\n",
    "        return np.nan"
   ]
  },
  {
   "cell_type": "code",
   "execution_count": 107,
   "metadata": {},
   "outputs": [
    {
     "name": "stderr",
     "output_type": "stream",
     "text": [
      "C:\\Users\\ms964\\AppData\\Local\\Temp\\ipykernel_17308\\2405481351.py:2: SettingWithCopyWarning: \n",
      "A value is trying to be set on a copy of a slice from a DataFrame\n",
      "\n",
      "See the caveats in the documentation: https://pandas.pydata.org/pandas-docs/stable/user_guide/indexing.html#returning-a-view-versus-a-copy\n",
      "  data1.loc[data1['주소'] == address,'도로명주소'] = matching_code(address)\n"
     ]
    },
    {
     "data": {
      "text/plain": [
       "0"
      ]
     },
     "execution_count": 107,
     "metadata": {},
     "output_type": "execute_result"
    }
   ],
   "source": [
    "for address in data1[data1['도로명주소'].isnull()]['주소']:\n",
    "    data1.loc[data1['주소'] == address,'도로명주소'] = matching_code(address)\n",
    "\n",
    "data1['도로명주소'].isnull().sum()"
   ]
  },
  {
   "cell_type": "markdown",
   "metadata": {},
   "source": [
    "1. 위치\n",
    "2. 이용가능시간\n",
    "3. 운영기관연락처\n",
    "4. 충전용량\n",
    "5. 충전방식\n",
    "6. 종류\n",
    "7. 종류디테일\n",
    "8. 주차료무료\n",
    "9. 충전소안내\n",
    "10. 이용자제한사유\n",
    "\n",
    "이제 위 10개 열의 결측치를 제거해야 한다."
   ]
  },
  {
   "cell_type": "code",
   "execution_count": 116,
   "metadata": {},
   "outputs": [
    {
     "name": "stdout",
     "output_type": "stream",
     "text": [
      "<class 'pandas.core.frame.DataFrame'>\n",
      "RangeIndex: 24338 entries, 1 to 24338\n",
      "Data columns (total 23 columns):\n",
      " #   Column   Non-Null Count  Dtype \n",
      "---  ------   --------------  ----- \n",
      " 0   충전소명     24338 non-null  object\n",
      " 1   충전기타입    24338 non-null  object\n",
      " 2   주소       24338 non-null  object\n",
      " 3   위치       9667 non-null   object\n",
      " 4   위도       24338 non-null  object\n",
      " 5   경도       24338 non-null  object\n",
      " 6   이용가능시간   23591 non-null  object\n",
      " 7   기관명      24338 non-null  object\n",
      " 8   운영기관명    24338 non-null  object\n",
      " 9   운영기관연락처  23580 non-null  object\n",
      " 10  충전용량     17082 non-null  object\n",
      " 11  충전방식     17416 non-null  object\n",
      " 12  지역코드     24338 non-null  object\n",
      " 13  도로명주소    24338 non-null  object\n",
      " 14  종류       24229 non-null  object\n",
      " 15  종류 디테일   24226 non-null  object\n",
      " 16  주차료무료    24257 non-null  object\n",
      " 17  충전소안내    2994 non-null   object\n",
      " 18  이용자제한    24338 non-null  object\n",
      " 19  이용자제한사유  17797 non-null  object\n",
      " 20  기관 아이디   24338 non-null  object\n",
      " 21  충전소ID    24338 non-null  object\n",
      " 22  충전기ID    24338 non-null  object\n",
      "dtypes: object(23)\n",
      "memory usage: 4.3+ MB\n"
     ]
    }
   ],
   "source": [
    "data1.info()"
   ]
  }
 ],
 "metadata": {
  "kernelspec": {
   "display_name": "Python 3.10.5 64-bit",
   "language": "python",
   "name": "python3"
  },
  "language_info": {
   "codemirror_mode": {
    "name": "ipython",
    "version": 3
   },
   "file_extension": ".py",
   "mimetype": "text/x-python",
   "name": "python",
   "nbconvert_exporter": "python",
   "pygments_lexer": "ipython3",
   "version": "3.10.5"
  },
  "orig_nbformat": 4,
  "vscode": {
   "interpreter": {
    "hash": "c75c43c2f521f9af9e542d929de0113d2885c61f9244d7c222152b1c64260bb8"
   }
  }
 },
 "nbformat": 4,
 "nbformat_minor": 2
}
